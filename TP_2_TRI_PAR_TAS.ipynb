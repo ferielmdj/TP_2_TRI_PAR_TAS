{
 "cells": [
  {
   "cell_type": "markdown",
   "id": "d1c20d23-d84d-4e9d-8de6-bcdbddd9197d",
   "metadata": {},
   "source": [
    "HELLO BEAUTIFUL MISS HOPE THIS FINDS YOU WELL"
   ]
  },
  {
   "cell_type": "markdown",
   "id": "8c2ece30-53bb-41be-a168-2597507da2ee",
   "metadata": {},
   "source": [
    "QST 1 : Construction d'un Tas"
   ]
  },
  {
   "cell_type": "code",
   "execution_count": 15,
   "id": "9cf8dba3-d0f0-4e60-957f-5577eebbfa9b",
   "metadata": {},
   "outputs": [],
   "source": [
    "def entasser(T, n, i):\n",
    "    max = i\n",
    "    FG = 2 * i + 1 \n",
    "    FD = 2 * i + 2\n",
    "\n",
    "    if FG < n and T[FG] > T[max]:\n",
    "        max = FG\n",
    "\n",
    "    if FD < n and T[FD] > T[max]:\n",
    "        max = FD\n",
    "\n",
    "    if max != i:\n",
    "        T[i], T[max] = T[max], T[i]\n",
    "        entasser(T, n, max)\n",
    "\n",
    "def construire_tas(T):\n",
    "    n = len(T)\n",
    "    for i in range(n // 2 - 1, -1, -1):\n",
    "        entasser(T, n, i)\n"
   ]
  },
  {
   "cell_type": "markdown",
   "id": "294a5bc7-404e-4d48-8ad1-9b662ce3df55",
   "metadata": {},
   "source": [
    "QST2 : Tri par un Tas"
   ]
  },
  {
   "cell_type": "code",
   "execution_count": 10,
   "id": "9007f374-73fd-473c-9c51-b8591e448eac",
   "metadata": {},
   "outputs": [],
   "source": [
    "def tri_par_Tas(T):\n",
    "    n = len(T)\n",
    "    construire_tas(T)\n",
    "\n",
    "    for i in range(n - 1, 0, -1):\n",
    "        T[0], T[i] = T[i], T[0]\n",
    "        entasser(T, i, 0)\n"
   ]
  },
  {
   "cell_type": "markdown",
   "id": "c8a0aea5-aa18-4b14-8b55-8a3da0d1065f",
   "metadata": {},
   "source": [
    "Exemple"
   ]
  },
  {
   "cell_type": "code",
   "execution_count": 14,
   "id": "f3bc91de-b5b0-4699-8b16-2685659707f8",
   "metadata": {},
   "outputs": [
    {
     "name": "stdout",
     "output_type": "stream",
     "text": [
      "notre Tableau initial ;) : [10, 22, 5, 18, 20, 25, 14, 30, 35, 12]\n",
      "--------------------------\n",
      "resultat de notre Tasmax ;) : [35, 30, 25, 22, 20, 5, 14, 10, 18, 12]\n",
      "--------------------------\n",
      "notre Tableau trié ;) : [5, 10, 12, 14, 18, 20, 22, 25, 30, 35]\n"
     ]
    }
   ],
   "source": [
    "T = [10, 22, 5, 18, 20, 25, 14, 30, 35, 12]\n",
    "print(\"notre Tableau initial ;) :\", T)\n",
    "print(\"--------------------------\")\n",
    "construire_tas(T)\n",
    "print(\"resultat de notre Tasmax ;) :\", T)\n",
    "print(\"--------------------------\")\n",
    "tri_par_Tas(T)\n",
    "print(\"notre Tableau trié ;) :\", T)"
   ]
  },
  {
   "cell_type": "code",
   "execution_count": null,
   "id": "2d78b7cf-2a72-42f6-aeb3-9939a62656ae",
   "metadata": {},
   "outputs": [],
   "source": []
  }
 ],
 "metadata": {
  "kernelspec": {
   "display_name": "Python 3 (ipykernel)",
   "language": "python",
   "name": "python3"
  },
  "language_info": {
   "codemirror_mode": {
    "name": "ipython",
    "version": 3
   },
   "file_extension": ".py",
   "mimetype": "text/x-python",
   "name": "python",
   "nbconvert_exporter": "python",
   "pygments_lexer": "ipython3",
   "version": "3.11.7"
  },
  "widgets": {
   "application/vnd.jupyter.widget-state+json": {
    "state": {},
    "version_major": 2,
    "version_minor": 0
   }
  }
 },
 "nbformat": 4,
 "nbformat_minor": 5
}
